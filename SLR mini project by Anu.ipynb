{
 "cells": [
  {
   "cell_type": "markdown",
   "id": "8335e85c",
   "metadata": {},
   "source": [
    "# Predict profit of a start up company based on investment in RnD"
   ]
  },
  {
   "cell_type": "markdown",
   "id": "a58cb216",
   "metadata": {},
   "source": [
    "# ML Model - Linear regression\n",
    "Dataset - 50_StartUps, \n",
    "IDE - Jupyter Notebook, \n",
    "Language- Python\n",
    "Libraries - Pandas, Matplotlib, Seaborn"
   ]
  },
  {
   "cell_type": "code",
   "execution_count": 1,
   "id": "465f3cb7",
   "metadata": {},
   "outputs": [],
   "source": [
    "import pandas as pd\n",
    "A =pd.read_csv(\"D:/My Work/Data science course/Datasets/50_StartUps.csv\")"
   ]
  },
  {
   "cell_type": "code",
   "execution_count": 2,
   "id": "716eb3c1",
   "metadata": {},
   "outputs": [
    {
     "data": {
      "text/html": [
       "<div>\n",
       "<style scoped>\n",
       "    .dataframe tbody tr th:only-of-type {\n",
       "        vertical-align: middle;\n",
       "    }\n",
       "\n",
       "    .dataframe tbody tr th {\n",
       "        vertical-align: top;\n",
       "    }\n",
       "\n",
       "    .dataframe thead th {\n",
       "        text-align: right;\n",
       "    }\n",
       "</style>\n",
       "<table border=\"1\" class=\"dataframe\">\n",
       "  <thead>\n",
       "    <tr style=\"text-align: right;\">\n",
       "      <th></th>\n",
       "      <th>Unnamed: 0</th>\n",
       "      <th>RND</th>\n",
       "      <th>ADMIN</th>\n",
       "      <th>MKT</th>\n",
       "      <th>STATE</th>\n",
       "      <th>PROFIT</th>\n",
       "    </tr>\n",
       "  </thead>\n",
       "  <tbody>\n",
       "    <tr>\n",
       "      <th>0</th>\n",
       "      <td>0</td>\n",
       "      <td>165349.20</td>\n",
       "      <td>136897.80</td>\n",
       "      <td>471784.10</td>\n",
       "      <td>new york</td>\n",
       "      <td>192261.83</td>\n",
       "    </tr>\n",
       "    <tr>\n",
       "      <th>1</th>\n",
       "      <td>1</td>\n",
       "      <td>162597.70</td>\n",
       "      <td>151377.59</td>\n",
       "      <td>443898.53</td>\n",
       "      <td>california</td>\n",
       "      <td>191792.06</td>\n",
       "    </tr>\n",
       "    <tr>\n",
       "      <th>2</th>\n",
       "      <td>2</td>\n",
       "      <td>153441.51</td>\n",
       "      <td>101145.55</td>\n",
       "      <td>407934.54</td>\n",
       "      <td>florida</td>\n",
       "      <td>191050.39</td>\n",
       "    </tr>\n",
       "    <tr>\n",
       "      <th>3</th>\n",
       "      <td>3</td>\n",
       "      <td>144372.41</td>\n",
       "      <td>118671.85</td>\n",
       "      <td>383199.62</td>\n",
       "      <td>new york</td>\n",
       "      <td>182901.99</td>\n",
       "    </tr>\n",
       "    <tr>\n",
       "      <th>4</th>\n",
       "      <td>4</td>\n",
       "      <td>142107.34</td>\n",
       "      <td>91391.77</td>\n",
       "      <td>366168.42</td>\n",
       "      <td>florida</td>\n",
       "      <td>166187.94</td>\n",
       "    </tr>\n",
       "  </tbody>\n",
       "</table>\n",
       "</div>"
      ],
      "text/plain": [
       "   Unnamed: 0        RND      ADMIN        MKT       STATE     PROFIT\n",
       "0           0  165349.20  136897.80  471784.10    new york  192261.83\n",
       "1           1  162597.70  151377.59  443898.53  california  191792.06\n",
       "2           2  153441.51  101145.55  407934.54     florida  191050.39\n",
       "3           3  144372.41  118671.85  383199.62    new york  182901.99\n",
       "4           4  142107.34   91391.77  366168.42     florida  166187.94"
      ]
     },
     "execution_count": 2,
     "metadata": {},
     "output_type": "execute_result"
    }
   ],
   "source": [
    "A.head()"
   ]
  },
  {
   "cell_type": "markdown",
   "id": "3d532276",
   "metadata": {},
   "source": [
    "# Check for missing data"
   ]
  },
  {
   "cell_type": "code",
   "execution_count": 3,
   "id": "acd100c1",
   "metadata": {},
   "outputs": [
    {
     "data": {
      "text/plain": [
       "Unnamed: 0    0\n",
       "RND           0\n",
       "ADMIN         0\n",
       "MKT           0\n",
       "STATE         0\n",
       "PROFIT        0\n",
       "dtype: int64"
      ]
     },
     "execution_count": 3,
     "metadata": {},
     "output_type": "execute_result"
    }
   ],
   "source": [
    "A.isnull().sum()"
   ]
  },
  {
   "cell_type": "markdown",
   "id": "8220ae2c",
   "metadata": {},
   "source": [
    "# EDA"
   ]
  },
  {
   "cell_type": "code",
   "execution_count": 4,
   "id": "72bc0089",
   "metadata": {},
   "outputs": [
    {
     "data": {
      "text/plain": [
       "<AxesSubplot:xlabel='RND', ylabel='PROFIT'>"
      ]
     },
     "execution_count": 4,
     "metadata": {},
     "output_type": "execute_result"
    },
    {
     "data": {
      "image/png": "[encoded data removed]",
      "text/plain": [
       "<Figure size 432x288 with 1 Axes>"
      ]
     },
     "metadata": {
      "needs_background": "light"
     },
     "output_type": "display_data"
    }
   ],
   "source": [
    "import seaborn as sb\n",
    "from warnings import filterwarnings\n",
    "filterwarnings(\"ignore\")\n",
    "sb.scatterplot(A.RND,A.PROFIT)"
   ]
  },
  {
   "cell_type": "code",
   "execution_count": 5,
   "id": "0ddd4ad1",
   "metadata": {},
   "outputs": [
    {
     "data": {
      "text/plain": [
       "<AxesSubplot:xlabel='RND', ylabel='PROFIT'>"
      ]
     },
     "execution_count": 5,
     "metadata": {},
     "output_type": "execute_result"
    },
    {
     "data": {
      "image/png": "[encoded data removed]",
      "text/plain": [
       "<Figure size 720x360 with 2 Axes>"
      ]
     },
     "metadata": {
      "needs_background": "light"
     },
     "output_type": "display_data"
    }
   ],
   "source": [
    "import matplotlib.pyplot as plt\n",
    "plt.figure(figsize=(10,5))\n",
    "plt.subplot(1,2,1)\n",
    "sb.scatterplot(A.MKT,A.PROFIT)\n",
    "plt.subplot(1,2,2)\n",
    "sb.scatterplot(A.RND, A.PROFIT)"
   ]
  },
  {
   "cell_type": "code",
   "execution_count": 7,
   "id": "96bdcb8d",
   "metadata": {},
   "outputs": [
    {
     "data": {
      "text/html": [
       "<div>\n",
       "<style scoped>\n",
       "    .dataframe tbody tr th:only-of-type {\n",
       "        vertical-align: middle;\n",
       "    }\n",
       "\n",
       "    .dataframe tbody tr th {\n",
       "        vertical-align: top;\n",
       "    }\n",
       "\n",
       "    .dataframe thead th {\n",
       "        text-align: right;\n",
       "    }\n",
       "</style>\n",
       "<table border=\"1\" class=\"dataframe\">\n",
       "  <thead>\n",
       "    <tr style=\"text-align: right;\">\n",
       "      <th></th>\n",
       "      <th>Unnamed: 0</th>\n",
       "      <th>RND</th>\n",
       "      <th>ADMIN</th>\n",
       "      <th>MKT</th>\n",
       "      <th>PROFIT</th>\n",
       "    </tr>\n",
       "  </thead>\n",
       "  <tbody>\n",
       "    <tr>\n",
       "      <th>Unnamed: 0</th>\n",
       "      <td>1.000000</td>\n",
       "      <td>-0.979395</td>\n",
       "      <td>-0.229336</td>\n",
       "      <td>-0.729937</td>\n",
       "      <td>-0.973629</td>\n",
       "    </tr>\n",
       "    <tr>\n",
       "      <th>RND</th>\n",
       "      <td>-0.979395</td>\n",
       "      <td>1.000000</td>\n",
       "      <td>0.241955</td>\n",
       "      <td>0.724248</td>\n",
       "      <td>0.972900</td>\n",
       "    </tr>\n",
       "    <tr>\n",
       "      <th>ADMIN</th>\n",
       "      <td>-0.229336</td>\n",
       "      <td>0.241955</td>\n",
       "      <td>1.000000</td>\n",
       "      <td>-0.032154</td>\n",
       "      <td>0.200717</td>\n",
       "    </tr>\n",
       "    <tr>\n",
       "      <th>MKT</th>\n",
       "      <td>-0.729937</td>\n",
       "      <td>0.724248</td>\n",
       "      <td>-0.032154</td>\n",
       "      <td>1.000000</td>\n",
       "      <td>0.747766</td>\n",
       "    </tr>\n",
       "    <tr>\n",
       "      <th>PROFIT</th>\n",
       "      <td>-0.973629</td>\n",
       "      <td>0.972900</td>\n",
       "      <td>0.200717</td>\n",
       "      <td>0.747766</td>\n",
       "      <td>1.000000</td>\n",
       "    </tr>\n",
       "  </tbody>\n",
       "</table>\n",
       "</div>"
      ],
      "text/plain": [
       "            Unnamed: 0       RND     ADMIN       MKT    PROFIT\n",
       "Unnamed: 0    1.000000 -0.979395 -0.229336 -0.729937 -0.973629\n",
       "RND          -0.979395  1.000000  0.241955  0.724248  0.972900\n",
       "ADMIN        -0.229336  0.241955  1.000000 -0.032154  0.200717\n",
       "MKT          -0.729937  0.724248 -0.032154  1.000000  0.747766\n",
       "PROFIT       -0.973629  0.972900  0.200717  0.747766  1.000000"
      ]
     },
     "execution_count": 7,
     "metadata": {},
     "output_type": "execute_result"
    }
   ],
   "source": [
    "A.corr()"
   ]
  },
  {
   "cell_type": "markdown",
   "id": "5bab43ce",
   "metadata": {},
   "source": [
    "# Define input(X) and Output(Y) of Model"
   ]
  },
  {
   "cell_type": "code",
   "execution_count": 8,
   "id": "13b2d468",
   "metadata": {},
   "outputs": [],
   "source": [
    "x = A[[\"RND\"]]\n",
    "y = A[[\"PROFIT\"]]"
   ]
  },
  {
   "cell_type": "code",
   "execution_count": 9,
   "id": "5d4c832c",
   "metadata": {},
   "outputs": [
    {
     "data": {
      "text/html": [
       "<div>\n",
       "<style scoped>\n",
       "    .dataframe tbody tr th:only-of-type {\n",
       "        vertical-align: middle;\n",
       "    }\n",
       "\n",
       "    .dataframe tbody tr th {\n",
       "        vertical-align: top;\n",
       "    }\n",
       "\n",
       "    .dataframe thead th {\n",
       "        text-align: right;\n",
       "    }\n",
       "</style>\n",
       "<table border=\"1\" class=\"dataframe\">\n",
       "  <thead>\n",
       "    <tr style=\"text-align: right;\">\n",
       "      <th></th>\n",
       "      <th>RND</th>\n",
       "    </tr>\n",
       "  </thead>\n",
       "  <tbody>\n",
       "    <tr>\n",
       "      <th>0</th>\n",
       "      <td>165349.20</td>\n",
       "    </tr>\n",
       "    <tr>\n",
       "      <th>1</th>\n",
       "      <td>162597.70</td>\n",
       "    </tr>\n",
       "    <tr>\n",
       "      <th>2</th>\n",
       "      <td>153441.51</td>\n",
       "    </tr>\n",
       "    <tr>\n",
       "      <th>3</th>\n",
       "      <td>144372.41</td>\n",
       "    </tr>\n",
       "    <tr>\n",
       "      <th>4</th>\n",
       "      <td>142107.34</td>\n",
       "    </tr>\n",
       "  </tbody>\n",
       "</table>\n",
       "</div>"
      ],
      "text/plain": [
       "         RND\n",
       "0  165349.20\n",
       "1  162597.70\n",
       "2  153441.51\n",
       "3  144372.41\n",
       "4  142107.34"
      ]
     },
     "execution_count": 9,
     "metadata": {},
     "output_type": "execute_result"
    }
   ],
   "source": [
    "x.head()"
   ]
  },
  {
   "cell_type": "code",
   "execution_count": 10,
   "id": "b823febf",
   "metadata": {},
   "outputs": [
    {
     "data": {
      "text/html": [
       "<div>\n",
       "<style scoped>\n",
       "    .dataframe tbody tr th:only-of-type {\n",
       "        vertical-align: middle;\n",
       "    }\n",
       "\n",
       "    .dataframe tbody tr th {\n",
       "        vertical-align: top;\n",
       "    }\n",
       "\n",
       "    .dataframe thead th {\n",
       "        text-align: right;\n",
       "    }\n",
       "</style>\n",
       "<table border=\"1\" class=\"dataframe\">\n",
       "  <thead>\n",
       "    <tr style=\"text-align: right;\">\n",
       "      <th></th>\n",
       "      <th>PROFIT</th>\n",
       "    </tr>\n",
       "  </thead>\n",
       "  <tbody>\n",
       "    <tr>\n",
       "      <th>0</th>\n",
       "      <td>192261.83</td>\n",
       "    </tr>\n",
       "    <tr>\n",
       "      <th>1</th>\n",
       "      <td>191792.06</td>\n",
       "    </tr>\n",
       "    <tr>\n",
       "      <th>2</th>\n",
       "      <td>191050.39</td>\n",
       "    </tr>\n",
       "    <tr>\n",
       "      <th>3</th>\n",
       "      <td>182901.99</td>\n",
       "    </tr>\n",
       "    <tr>\n",
       "      <th>4</th>\n",
       "      <td>166187.94</td>\n",
       "    </tr>\n",
       "  </tbody>\n",
       "</table>\n",
       "</div>"
      ],
      "text/plain": [
       "      PROFIT\n",
       "0  192261.83\n",
       "1  191792.06\n",
       "2  191050.39\n",
       "3  182901.99\n",
       "4  166187.94"
      ]
     },
     "execution_count": 10,
     "metadata": {},
     "output_type": "execute_result"
    }
   ],
   "source": [
    "y.head()"
   ]
  },
  {
   "cell_type": "markdown",
   "id": "055ca8f1",
   "metadata": {},
   "source": [
    "# Split the data into training and testing set.\n"
   ]
  },
  {
   "cell_type": "code",
   "execution_count": 11,
   "id": "aad25e26",
   "metadata": {},
   "outputs": [],
   "source": [
    "from sklearn.model_selection import train_test_split\n"
   ]
  },
  {
   "cell_type": "code",
   "execution_count": 12,
   "id": "1e09a693",
   "metadata": {},
   "outputs": [],
   "source": [
    "xtrain,xtest,ytrain,ytest = train_test_split(x,y,test_size=0.2,random_state=10)"
   ]
  },
  {
   "cell_type": "code",
   "execution_count": 13,
   "id": "948babd5",
   "metadata": {},
   "outputs": [
    {
     "data": {
      "text/plain": [
       "(40, 1)"
      ]
     },
     "execution_count": 13,
     "metadata": {},
     "output_type": "execute_result"
    }
   ],
   "source": [
    "xtrain.shape"
   ]
  },
  {
   "cell_type": "code",
   "execution_count": 14,
   "id": "91ec8bac",
   "metadata": {},
   "outputs": [
    {
     "data": {
      "text/plain": [
       "(10, 1)"
      ]
     },
     "execution_count": 14,
     "metadata": {},
     "output_type": "execute_result"
    }
   ],
   "source": [
    "xtest.shape"
   ]
  },
  {
   "cell_type": "code",
   "execution_count": 15,
   "id": "1497b563",
   "metadata": {},
   "outputs": [
    {
     "data": {
      "text/plain": [
       "(40, 1)"
      ]
     },
     "execution_count": 15,
     "metadata": {},
     "output_type": "execute_result"
    }
   ],
   "source": [
    "ytrain.shape"
   ]
  },
  {
   "cell_type": "code",
   "execution_count": 16,
   "id": "f15a0a50",
   "metadata": {},
   "outputs": [
    {
     "data": {
      "text/plain": [
       "(10, 1)"
      ]
     },
     "execution_count": 16,
     "metadata": {},
     "output_type": "execute_result"
    }
   ],
   "source": [
    "ytest.shape"
   ]
  },
  {
   "cell_type": "code",
   "execution_count": 17,
   "id": "dca5a725",
   "metadata": {},
   "outputs": [
    {
     "data": {
      "text/html": [
       "<div>\n",
       "<style scoped>\n",
       "    .dataframe tbody tr th:only-of-type {\n",
       "        vertical-align: middle;\n",
       "    }\n",
       "\n",
       "    .dataframe tbody tr th {\n",
       "        vertical-align: top;\n",
       "    }\n",
       "\n",
       "    .dataframe thead th {\n",
       "        text-align: right;\n",
       "    }\n",
       "</style>\n",
       "<table border=\"1\" class=\"dataframe\">\n",
       "  <thead>\n",
       "    <tr style=\"text-align: right;\">\n",
       "      <th></th>\n",
       "      <th>Unnamed: 0</th>\n",
       "      <th>RND</th>\n",
       "      <th>ADMIN</th>\n",
       "      <th>MKT</th>\n",
       "      <th>PROFIT</th>\n",
       "    </tr>\n",
       "  </thead>\n",
       "  <tbody>\n",
       "    <tr>\n",
       "      <th>count</th>\n",
       "      <td>50.00000</td>\n",
       "      <td>50.000000</td>\n",
       "      <td>50.000000</td>\n",
       "      <td>50.000000</td>\n",
       "      <td>50.000000</td>\n",
       "    </tr>\n",
       "    <tr>\n",
       "      <th>mean</th>\n",
       "      <td>24.50000</td>\n",
       "      <td>73721.615600</td>\n",
       "      <td>121344.639600</td>\n",
       "      <td>211025.097800</td>\n",
       "      <td>112012.639200</td>\n",
       "    </tr>\n",
       "    <tr>\n",
       "      <th>std</th>\n",
       "      <td>14.57738</td>\n",
       "      <td>45902.256482</td>\n",
       "      <td>28017.802755</td>\n",
       "      <td>122290.310726</td>\n",
       "      <td>40306.180338</td>\n",
       "    </tr>\n",
       "    <tr>\n",
       "      <th>min</th>\n",
       "      <td>0.00000</td>\n",
       "      <td>0.000000</td>\n",
       "      <td>51283.140000</td>\n",
       "      <td>0.000000</td>\n",
       "      <td>14681.400000</td>\n",
       "    </tr>\n",
       "    <tr>\n",
       "      <th>25%</th>\n",
       "      <td>12.25000</td>\n",
       "      <td>39936.370000</td>\n",
       "      <td>103730.875000</td>\n",
       "      <td>129300.132500</td>\n",
       "      <td>90138.902500</td>\n",
       "    </tr>\n",
       "    <tr>\n",
       "      <th>50%</th>\n",
       "      <td>24.50000</td>\n",
       "      <td>73051.080000</td>\n",
       "      <td>122699.795000</td>\n",
       "      <td>212716.240000</td>\n",
       "      <td>107978.190000</td>\n",
       "    </tr>\n",
       "    <tr>\n",
       "      <th>75%</th>\n",
       "      <td>36.75000</td>\n",
       "      <td>101602.800000</td>\n",
       "      <td>144842.180000</td>\n",
       "      <td>299469.085000</td>\n",
       "      <td>139765.977500</td>\n",
       "    </tr>\n",
       "    <tr>\n",
       "      <th>max</th>\n",
       "      <td>49.00000</td>\n",
       "      <td>165349.200000</td>\n",
       "      <td>182645.560000</td>\n",
       "      <td>471784.100000</td>\n",
       "      <td>192261.830000</td>\n",
       "    </tr>\n",
       "  </tbody>\n",
       "</table>\n",
       "</div>"
      ],
      "text/plain": [
       "       Unnamed: 0            RND          ADMIN            MKT         PROFIT\n",
       "count    50.00000      50.000000      50.000000      50.000000      50.000000\n",
       "mean     24.50000   73721.615600  121344.639600  211025.097800  112012.639200\n",
       "std      14.57738   45902.256482   28017.802755  122290.310726   40306.180338\n",
       "min       0.00000       0.000000   51283.140000       0.000000   14681.400000\n",
       "25%      12.25000   39936.370000  103730.875000  129300.132500   90138.902500\n",
       "50%      24.50000   73051.080000  122699.795000  212716.240000  107978.190000\n",
       "75%      36.75000  101602.800000  144842.180000  299469.085000  139765.977500\n",
       "max      49.00000  165349.200000  182645.560000  471784.100000  192261.830000"
      ]
     },
     "execution_count": 17,
     "metadata": {},
     "output_type": "execute_result"
    }
   ],
   "source": [
    "A.describe()"
   ]
  },
  {
   "cell_type": "markdown",
   "id": "4ea7a9e4",
   "metadata": {},
   "source": [
    "# Check for Sampling bias\n",
    " "
   ]
  },
  {
   "cell_type": "code",
   "execution_count": 18,
   "id": "dd8f4313",
   "metadata": {},
   "outputs": [
    {
     "data": {
      "text/plain": [
       "<AxesSubplot:ylabel='Density'>"
      ]
     },
     "execution_count": 18,
     "metadata": {},
     "output_type": "execute_result"
    },
    {
     "data": {
      "image/png": "[encoded data removed]",
      "text/plain": [
       "<Figure size 432x288 with 1 Axes>"
      ]
     },
     "metadata": {
      "needs_background": "light"
     },
     "output_type": "display_data"
    }
   ],
   "source": [
    "from seaborn import distplot\n",
    "distplot(y)\n",
    "distplot(ytrain)"
   ]
  },
  {
   "cell_type": "markdown",
   "id": "7146ff52",
   "metadata": {},
   "source": [
    "# Create ML model for regression"
   ]
  },
  {
   "cell_type": "code",
   "execution_count": 19,
   "id": "96be9d34",
   "metadata": {},
   "outputs": [],
   "source": [
    "from sklearn.linear_model import LinearRegression\n",
    "lm = LinearRegression()\n",
    "\n",
    "model = lm.fit(xtrain,ytrain)\n",
    "\n",
    "from warnings import filterwarnings\n",
    "filterwarnings(\"ignore\")\n",
    "# fit function is used for training. \n",
    "#This will automatically calculate b0 and b1 values that are stored in the form of an array "
   ]
  },
  {
   "cell_type": "markdown",
   "id": "25eed2bc",
   "metadata": {},
   "source": [
    "# Find values of b0 and b1"
   ]
  },
  {
   "cell_type": "code",
   "execution_count": 20,
   "id": "0db97569",
   "metadata": {},
   "outputs": [],
   "source": [
    "b0 = model.intercept_[0]\n",
    "b1 = model.coef_[0]"
   ]
  },
  {
   "cell_type": "code",
   "execution_count": 21,
   "id": "fbb210b0",
   "metadata": {},
   "outputs": [
    {
     "data": {
      "text/plain": [
       "49476.91928712182"
      ]
     },
     "execution_count": 21,
     "metadata": {},
     "output_type": "execute_result"
    }
   ],
   "source": [
    "b0"
   ]
  },
  {
   "cell_type": "code",
   "execution_count": 22,
   "id": "f99b8a35",
   "metadata": {},
   "outputs": [
    {
     "data": {
      "text/plain": [
       "array([0.84881531])"
      ]
     },
     "execution_count": 22,
     "metadata": {},
     "output_type": "execute_result"
    }
   ],
   "source": [
    "b1"
   ]
  },
  {
   "cell_type": "code",
   "execution_count": 23,
   "id": "8f013568",
   "metadata": {},
   "outputs": [],
   "source": [
    "b1 = b1[0]"
   ]
  },
  {
   "cell_type": "code",
   "execution_count": 24,
   "id": "2aa94931",
   "metadata": {},
   "outputs": [
    {
     "data": {
      "text/plain": [
       "0.8488153104477968"
      ]
     },
     "execution_count": 24,
     "metadata": {},
     "output_type": "execute_result"
    }
   ],
   "source": [
    "b1"
   ]
  },
  {
   "cell_type": "markdown",
   "id": "942feb57",
   "metadata": {},
   "source": [
    "# Create predictions based on test data"
   ]
  },
  {
   "cell_type": "code",
   "execution_count": 25,
   "id": "807ebf9f",
   "metadata": {},
   "outputs": [],
   "source": [
    "B = xtest[['RND']]"
   ]
  },
  {
   "cell_type": "code",
   "execution_count": 26,
   "id": "c874708c",
   "metadata": {},
   "outputs": [
    {
     "data": {
      "text/html": [
       "<div>\n",
       "<style scoped>\n",
       "    .dataframe tbody tr th:only-of-type {\n",
       "        vertical-align: middle;\n",
       "    }\n",
       "\n",
       "    .dataframe tbody tr th {\n",
       "        vertical-align: top;\n",
       "    }\n",
       "\n",
       "    .dataframe thead th {\n",
       "        text-align: right;\n",
       "    }\n",
       "</style>\n",
       "<table border=\"1\" class=\"dataframe\">\n",
       "  <thead>\n",
       "    <tr style=\"text-align: right;\">\n",
       "      <th></th>\n",
       "      <th>RND</th>\n",
       "    </tr>\n",
       "  </thead>\n",
       "  <tbody>\n",
       "    <tr>\n",
       "      <th>37</th>\n",
       "      <td>44069.95</td>\n",
       "    </tr>\n",
       "    <tr>\n",
       "      <th>23</th>\n",
       "      <td>67532.53</td>\n",
       "    </tr>\n",
       "    <tr>\n",
       "      <th>44</th>\n",
       "      <td>22177.74</td>\n",
       "    </tr>\n",
       "    <tr>\n",
       "      <th>42</th>\n",
       "      <td>23640.93</td>\n",
       "    </tr>\n",
       "    <tr>\n",
       "      <th>47</th>\n",
       "      <td>0.00</td>\n",
       "    </tr>\n",
       "  </tbody>\n",
       "</table>\n",
       "</div>"
      ],
      "text/plain": [
       "         RND\n",
       "37  44069.95\n",
       "23  67532.53\n",
       "44  22177.74\n",
       "42  23640.93\n",
       "47      0.00"
      ]
     },
     "execution_count": 26,
     "metadata": {},
     "output_type": "execute_result"
    }
   ],
   "source": [
    "B.head()"
   ]
  },
  {
   "cell_type": "code",
   "execution_count": 27,
   "id": "40e61ff9",
   "metadata": {},
   "outputs": [],
   "source": [
    "B['b0'] = b0"
   ]
  },
  {
   "cell_type": "code",
   "execution_count": 28,
   "id": "fdc20d87",
   "metadata": {},
   "outputs": [
    {
     "data": {
      "text/html": [
       "<div>\n",
       "<style scoped>\n",
       "    .dataframe tbody tr th:only-of-type {\n",
       "        vertical-align: middle;\n",
       "    }\n",
       "\n",
       "    .dataframe tbody tr th {\n",
       "        vertical-align: top;\n",
       "    }\n",
       "\n",
       "    .dataframe thead th {\n",
       "        text-align: right;\n",
       "    }\n",
       "</style>\n",
       "<table border=\"1\" class=\"dataframe\">\n",
       "  <thead>\n",
       "    <tr style=\"text-align: right;\">\n",
       "      <th></th>\n",
       "      <th>RND</th>\n",
       "      <th>b0</th>\n",
       "    </tr>\n",
       "  </thead>\n",
       "  <tbody>\n",
       "    <tr>\n",
       "      <th>37</th>\n",
       "      <td>44069.95</td>\n",
       "      <td>49476.919287</td>\n",
       "    </tr>\n",
       "    <tr>\n",
       "      <th>23</th>\n",
       "      <td>67532.53</td>\n",
       "      <td>49476.919287</td>\n",
       "    </tr>\n",
       "    <tr>\n",
       "      <th>44</th>\n",
       "      <td>22177.74</td>\n",
       "      <td>49476.919287</td>\n",
       "    </tr>\n",
       "    <tr>\n",
       "      <th>42</th>\n",
       "      <td>23640.93</td>\n",
       "      <td>49476.919287</td>\n",
       "    </tr>\n",
       "    <tr>\n",
       "      <th>47</th>\n",
       "      <td>0.00</td>\n",
       "      <td>49476.919287</td>\n",
       "    </tr>\n",
       "  </tbody>\n",
       "</table>\n",
       "</div>"
      ],
      "text/plain": [
       "         RND            b0\n",
       "37  44069.95  49476.919287\n",
       "23  67532.53  49476.919287\n",
       "44  22177.74  49476.919287\n",
       "42  23640.93  49476.919287\n",
       "47      0.00  49476.919287"
      ]
     },
     "execution_count": 28,
     "metadata": {},
     "output_type": "execute_result"
    }
   ],
   "source": [
    "B.head()"
   ]
  },
  {
   "cell_type": "code",
   "execution_count": 29,
   "id": "71196f86",
   "metadata": {},
   "outputs": [],
   "source": [
    "B['b1'] = b1"
   ]
  },
  {
   "cell_type": "code",
   "execution_count": 30,
   "id": "9d39e331",
   "metadata": {},
   "outputs": [
    {
     "data": {
      "text/html": [
       "<div>\n",
       "<style scoped>\n",
       "    .dataframe tbody tr th:only-of-type {\n",
       "        vertical-align: middle;\n",
       "    }\n",
       "\n",
       "    .dataframe tbody tr th {\n",
       "        vertical-align: top;\n",
       "    }\n",
       "\n",
       "    .dataframe thead th {\n",
       "        text-align: right;\n",
       "    }\n",
       "</style>\n",
       "<table border=\"1\" class=\"dataframe\">\n",
       "  <thead>\n",
       "    <tr style=\"text-align: right;\">\n",
       "      <th></th>\n",
       "      <th>RND</th>\n",
       "      <th>b0</th>\n",
       "      <th>b1</th>\n",
       "    </tr>\n",
       "  </thead>\n",
       "  <tbody>\n",
       "    <tr>\n",
       "      <th>37</th>\n",
       "      <td>44069.95</td>\n",
       "      <td>49476.919287</td>\n",
       "      <td>0.848815</td>\n",
       "    </tr>\n",
       "    <tr>\n",
       "      <th>23</th>\n",
       "      <td>67532.53</td>\n",
       "      <td>49476.919287</td>\n",
       "      <td>0.848815</td>\n",
       "    </tr>\n",
       "    <tr>\n",
       "      <th>44</th>\n",
       "      <td>22177.74</td>\n",
       "      <td>49476.919287</td>\n",
       "      <td>0.848815</td>\n",
       "    </tr>\n",
       "    <tr>\n",
       "      <th>42</th>\n",
       "      <td>23640.93</td>\n",
       "      <td>49476.919287</td>\n",
       "      <td>0.848815</td>\n",
       "    </tr>\n",
       "    <tr>\n",
       "      <th>47</th>\n",
       "      <td>0.00</td>\n",
       "      <td>49476.919287</td>\n",
       "      <td>0.848815</td>\n",
       "    </tr>\n",
       "  </tbody>\n",
       "</table>\n",
       "</div>"
      ],
      "text/plain": [
       "         RND            b0        b1\n",
       "37  44069.95  49476.919287  0.848815\n",
       "23  67532.53  49476.919287  0.848815\n",
       "44  22177.74  49476.919287  0.848815\n",
       "42  23640.93  49476.919287  0.848815\n",
       "47      0.00  49476.919287  0.848815"
      ]
     },
     "execution_count": 30,
     "metadata": {},
     "output_type": "execute_result"
    }
   ],
   "source": [
    "B.head()"
   ]
  },
  {
   "cell_type": "code",
   "execution_count": 31,
   "id": "663f20ab",
   "metadata": {},
   "outputs": [],
   "source": [
    "B['Predictions'] = b0+b1*B.RND"
   ]
  },
  {
   "cell_type": "code",
   "execution_count": 32,
   "id": "23ecacbd",
   "metadata": {},
   "outputs": [
    {
     "data": {
      "text/html": [
       "<div>\n",
       "<style scoped>\n",
       "    .dataframe tbody tr th:only-of-type {\n",
       "        vertical-align: middle;\n",
       "    }\n",
       "\n",
       "    .dataframe tbody tr th {\n",
       "        vertical-align: top;\n",
       "    }\n",
       "\n",
       "    .dataframe thead th {\n",
       "        text-align: right;\n",
       "    }\n",
       "</style>\n",
       "<table border=\"1\" class=\"dataframe\">\n",
       "  <thead>\n",
       "    <tr style=\"text-align: right;\">\n",
       "      <th></th>\n",
       "      <th>RND</th>\n",
       "      <th>b0</th>\n",
       "      <th>b1</th>\n",
       "      <th>Predictions</th>\n",
       "    </tr>\n",
       "  </thead>\n",
       "  <tbody>\n",
       "    <tr>\n",
       "      <th>37</th>\n",
       "      <td>44069.95</td>\n",
       "      <td>49476.919287</td>\n",
       "      <td>0.848815</td>\n",
       "      <td>86884.167578</td>\n",
       "    </tr>\n",
       "    <tr>\n",
       "      <th>23</th>\n",
       "      <td>67532.53</td>\n",
       "      <td>49476.919287</td>\n",
       "      <td>0.848815</td>\n",
       "      <td>106799.564704</td>\n",
       "    </tr>\n",
       "    <tr>\n",
       "      <th>44</th>\n",
       "      <td>22177.74</td>\n",
       "      <td>49476.919287</td>\n",
       "      <td>0.848815</td>\n",
       "      <td>68301.724550</td>\n",
       "    </tr>\n",
       "    <tr>\n",
       "      <th>42</th>\n",
       "      <td>23640.93</td>\n",
       "      <td>49476.919287</td>\n",
       "      <td>0.848815</td>\n",
       "      <td>69543.702624</td>\n",
       "    </tr>\n",
       "    <tr>\n",
       "      <th>47</th>\n",
       "      <td>0.00</td>\n",
       "      <td>49476.919287</td>\n",
       "      <td>0.848815</td>\n",
       "      <td>49476.919287</td>\n",
       "    </tr>\n",
       "  </tbody>\n",
       "</table>\n",
       "</div>"
      ],
      "text/plain": [
       "         RND            b0        b1    Predictions\n",
       "37  44069.95  49476.919287  0.848815   86884.167578\n",
       "23  67532.53  49476.919287  0.848815  106799.564704\n",
       "44  22177.74  49476.919287  0.848815   68301.724550\n",
       "42  23640.93  49476.919287  0.848815   69543.702624\n",
       "47      0.00  49476.919287  0.848815   49476.919287"
      ]
     },
     "execution_count": 32,
     "metadata": {},
     "output_type": "execute_result"
    }
   ],
   "source": [
    "B.head()"
   ]
  },
  {
   "cell_type": "code",
   "execution_count": 33,
   "id": "a92dbe0b",
   "metadata": {},
   "outputs": [],
   "source": [
    "B['Actual Profit']=ytest.PROFIT"
   ]
  },
  {
   "cell_type": "code",
   "execution_count": 34,
   "id": "86282d43",
   "metadata": {},
   "outputs": [
    {
     "data": {
      "text/html": [
       "<div>\n",
       "<style scoped>\n",
       "    .dataframe tbody tr th:only-of-type {\n",
       "        vertical-align: middle;\n",
       "    }\n",
       "\n",
       "    .dataframe tbody tr th {\n",
       "        vertical-align: top;\n",
       "    }\n",
       "\n",
       "    .dataframe thead th {\n",
       "        text-align: right;\n",
       "    }\n",
       "</style>\n",
       "<table border=\"1\" class=\"dataframe\">\n",
       "  <thead>\n",
       "    <tr style=\"text-align: right;\">\n",
       "      <th></th>\n",
       "      <th>RND</th>\n",
       "      <th>b0</th>\n",
       "      <th>b1</th>\n",
       "      <th>Predictions</th>\n",
       "      <th>Actual Profit</th>\n",
       "    </tr>\n",
       "  </thead>\n",
       "  <tbody>\n",
       "    <tr>\n",
       "      <th>37</th>\n",
       "      <td>44069.95</td>\n",
       "      <td>49476.919287</td>\n",
       "      <td>0.848815</td>\n",
       "      <td>86884.167578</td>\n",
       "      <td>89949.14</td>\n",
       "    </tr>\n",
       "    <tr>\n",
       "      <th>23</th>\n",
       "      <td>67532.53</td>\n",
       "      <td>49476.919287</td>\n",
       "      <td>0.848815</td>\n",
       "      <td>106799.564704</td>\n",
       "      <td>108733.99</td>\n",
       "    </tr>\n",
       "    <tr>\n",
       "      <th>44</th>\n",
       "      <td>22177.74</td>\n",
       "      <td>49476.919287</td>\n",
       "      <td>0.848815</td>\n",
       "      <td>68301.724550</td>\n",
       "      <td>65200.33</td>\n",
       "    </tr>\n",
       "    <tr>\n",
       "      <th>42</th>\n",
       "      <td>23640.93</td>\n",
       "      <td>49476.919287</td>\n",
       "      <td>0.848815</td>\n",
       "      <td>69543.702624</td>\n",
       "      <td>71498.49</td>\n",
       "    </tr>\n",
       "    <tr>\n",
       "      <th>47</th>\n",
       "      <td>0.00</td>\n",
       "      <td>49476.919287</td>\n",
       "      <td>0.848815</td>\n",
       "      <td>49476.919287</td>\n",
       "      <td>42559.73</td>\n",
       "    </tr>\n",
       "  </tbody>\n",
       "</table>\n",
       "</div>"
      ],
      "text/plain": [
       "         RND            b0        b1    Predictions  Actual Profit\n",
       "37  44069.95  49476.919287  0.848815   86884.167578       89949.14\n",
       "23  67532.53  49476.919287  0.848815  106799.564704      108733.99\n",
       "44  22177.74  49476.919287  0.848815   68301.724550       65200.33\n",
       "42  23640.93  49476.919287  0.848815   69543.702624       71498.49\n",
       "47      0.00  49476.919287  0.848815   49476.919287       42559.73"
      ]
     },
     "execution_count": 34,
     "metadata": {},
     "output_type": "execute_result"
    }
   ],
   "source": [
    "B.head()"
   ]
  },
  {
   "cell_type": "code",
   "execution_count": 35,
   "id": "2b44d34d",
   "metadata": {},
   "outputs": [],
   "source": [
    "B['Error']=B[\"Actual Profit\"] - B.Predictions"
   ]
  },
  {
   "cell_type": "code",
   "execution_count": 36,
   "id": "dbb0e8c7",
   "metadata": {},
   "outputs": [
    {
     "data": {
      "text/html": [
       "<div>\n",
       "<style scoped>\n",
       "    .dataframe tbody tr th:only-of-type {\n",
       "        vertical-align: middle;\n",
       "    }\n",
       "\n",
       "    .dataframe tbody tr th {\n",
       "        vertical-align: top;\n",
       "    }\n",
       "\n",
       "    .dataframe thead th {\n",
       "        text-align: right;\n",
       "    }\n",
       "</style>\n",
       "<table border=\"1\" class=\"dataframe\">\n",
       "  <thead>\n",
       "    <tr style=\"text-align: right;\">\n",
       "      <th></th>\n",
       "      <th>RND</th>\n",
       "      <th>b0</th>\n",
       "      <th>b1</th>\n",
       "      <th>Predictions</th>\n",
       "      <th>Actual Profit</th>\n",
       "      <th>Error</th>\n",
       "    </tr>\n",
       "  </thead>\n",
       "  <tbody>\n",
       "    <tr>\n",
       "      <th>37</th>\n",
       "      <td>44069.95</td>\n",
       "      <td>49476.919287</td>\n",
       "      <td>0.848815</td>\n",
       "      <td>86884.167578</td>\n",
       "      <td>89949.14</td>\n",
       "      <td>3064.972422</td>\n",
       "    </tr>\n",
       "    <tr>\n",
       "      <th>23</th>\n",
       "      <td>67532.53</td>\n",
       "      <td>49476.919287</td>\n",
       "      <td>0.848815</td>\n",
       "      <td>106799.564704</td>\n",
       "      <td>108733.99</td>\n",
       "      <td>1934.425296</td>\n",
       "    </tr>\n",
       "    <tr>\n",
       "      <th>44</th>\n",
       "      <td>22177.74</td>\n",
       "      <td>49476.919287</td>\n",
       "      <td>0.848815</td>\n",
       "      <td>68301.724550</td>\n",
       "      <td>65200.33</td>\n",
       "      <td>-3101.394550</td>\n",
       "    </tr>\n",
       "    <tr>\n",
       "      <th>42</th>\n",
       "      <td>23640.93</td>\n",
       "      <td>49476.919287</td>\n",
       "      <td>0.848815</td>\n",
       "      <td>69543.702624</td>\n",
       "      <td>71498.49</td>\n",
       "      <td>1954.787376</td>\n",
       "    </tr>\n",
       "    <tr>\n",
       "      <th>47</th>\n",
       "      <td>0.00</td>\n",
       "      <td>49476.919287</td>\n",
       "      <td>0.848815</td>\n",
       "      <td>49476.919287</td>\n",
       "      <td>42559.73</td>\n",
       "      <td>-6917.189287</td>\n",
       "    </tr>\n",
       "  </tbody>\n",
       "</table>\n",
       "</div>"
      ],
      "text/plain": [
       "         RND            b0        b1    Predictions  Actual Profit  \\\n",
       "37  44069.95  49476.919287  0.848815   86884.167578       89949.14   \n",
       "23  67532.53  49476.919287  0.848815  106799.564704      108733.99   \n",
       "44  22177.74  49476.919287  0.848815   68301.724550       65200.33   \n",
       "42  23640.93  49476.919287  0.848815   69543.702624       71498.49   \n",
       "47      0.00  49476.919287  0.848815   49476.919287       42559.73   \n",
       "\n",
       "          Error  \n",
       "37  3064.972422  \n",
       "23  1934.425296  \n",
       "44 -3101.394550  \n",
       "42  1954.787376  \n",
       "47 -6917.189287  "
      ]
     },
     "execution_count": 36,
     "metadata": {},
     "output_type": "execute_result"
    }
   ],
   "source": [
    "B.head()"
   ]
  },
  {
   "cell_type": "code",
   "execution_count": 37,
   "id": "e6f5e8c4",
   "metadata": {},
   "outputs": [],
   "source": [
    "# Find mesn absolute error\n",
    "\n",
    "B['Absolute_error'] = abs(B.Error)"
   ]
  },
  {
   "cell_type": "code",
   "execution_count": 38,
   "id": "d47d2974",
   "metadata": {},
   "outputs": [
    {
     "data": {
      "text/html": [
       "<div>\n",
       "<style scoped>\n",
       "    .dataframe tbody tr th:only-of-type {\n",
       "        vertical-align: middle;\n",
       "    }\n",
       "\n",
       "    .dataframe tbody tr th {\n",
       "        vertical-align: top;\n",
       "    }\n",
       "\n",
       "    .dataframe thead th {\n",
       "        text-align: right;\n",
       "    }\n",
       "</style>\n",
       "<table border=\"1\" class=\"dataframe\">\n",
       "  <thead>\n",
       "    <tr style=\"text-align: right;\">\n",
       "      <th></th>\n",
       "      <th>RND</th>\n",
       "      <th>b0</th>\n",
       "      <th>b1</th>\n",
       "      <th>Predictions</th>\n",
       "      <th>Actual Profit</th>\n",
       "      <th>Error</th>\n",
       "      <th>Absolute_error</th>\n",
       "    </tr>\n",
       "  </thead>\n",
       "  <tbody>\n",
       "    <tr>\n",
       "      <th>37</th>\n",
       "      <td>44069.95</td>\n",
       "      <td>49476.919287</td>\n",
       "      <td>0.848815</td>\n",
       "      <td>86884.167578</td>\n",
       "      <td>89949.14</td>\n",
       "      <td>3064.972422</td>\n",
       "      <td>3064.972422</td>\n",
       "    </tr>\n",
       "    <tr>\n",
       "      <th>23</th>\n",
       "      <td>67532.53</td>\n",
       "      <td>49476.919287</td>\n",
       "      <td>0.848815</td>\n",
       "      <td>106799.564704</td>\n",
       "      <td>108733.99</td>\n",
       "      <td>1934.425296</td>\n",
       "      <td>1934.425296</td>\n",
       "    </tr>\n",
       "    <tr>\n",
       "      <th>44</th>\n",
       "      <td>22177.74</td>\n",
       "      <td>49476.919287</td>\n",
       "      <td>0.848815</td>\n",
       "      <td>68301.724550</td>\n",
       "      <td>65200.33</td>\n",
       "      <td>-3101.394550</td>\n",
       "      <td>3101.394550</td>\n",
       "    </tr>\n",
       "    <tr>\n",
       "      <th>42</th>\n",
       "      <td>23640.93</td>\n",
       "      <td>49476.919287</td>\n",
       "      <td>0.848815</td>\n",
       "      <td>69543.702624</td>\n",
       "      <td>71498.49</td>\n",
       "      <td>1954.787376</td>\n",
       "      <td>1954.787376</td>\n",
       "    </tr>\n",
       "    <tr>\n",
       "      <th>47</th>\n",
       "      <td>0.00</td>\n",
       "      <td>49476.919287</td>\n",
       "      <td>0.848815</td>\n",
       "      <td>49476.919287</td>\n",
       "      <td>42559.73</td>\n",
       "      <td>-6917.189287</td>\n",
       "      <td>6917.189287</td>\n",
       "    </tr>\n",
       "  </tbody>\n",
       "</table>\n",
       "</div>"
      ],
      "text/plain": [
       "         RND            b0        b1    Predictions  Actual Profit  \\\n",
       "37  44069.95  49476.919287  0.848815   86884.167578       89949.14   \n",
       "23  67532.53  49476.919287  0.848815  106799.564704      108733.99   \n",
       "44  22177.74  49476.919287  0.848815   68301.724550       65200.33   \n",
       "42  23640.93  49476.919287  0.848815   69543.702624       71498.49   \n",
       "47      0.00  49476.919287  0.848815   49476.919287       42559.73   \n",
       "\n",
       "          Error  Absolute_error  \n",
       "37  3064.972422     3064.972422  \n",
       "23  1934.425296     1934.425296  \n",
       "44 -3101.394550     3101.394550  \n",
       "42  1954.787376     1954.787376  \n",
       "47 -6917.189287     6917.189287  "
      ]
     },
     "execution_count": 38,
     "metadata": {},
     "output_type": "execute_result"
    }
   ],
   "source": [
    "B.head()"
   ]
  },
  {
   "cell_type": "code",
   "execution_count": 39,
   "id": "257f00b7",
   "metadata": {},
   "outputs": [],
   "source": [
    "# Take mean of absolute error\n",
    "q = B.Absolute_error.mean()\n",
    "q = round(q,2) # round off number upto 2 decimal points"
   ]
  },
  {
   "cell_type": "code",
   "execution_count": 40,
   "id": "25a3ee99",
   "metadata": {},
   "outputs": [
    {
     "name": "stdout",
     "output_type": "stream",
     "text": [
      "The testing error is  4622.66\n"
     ]
    }
   ],
   "source": [
    "print(\"The testing error is \",q)"
   ]
  },
  {
   "cell_type": "markdown",
   "id": "c1fd6563",
   "metadata": {},
   "source": [
    "# Plot our Regression"
   ]
  },
  {
   "cell_type": "code",
   "execution_count": 41,
   "id": "06cbb0a6",
   "metadata": {},
   "outputs": [
    {
     "data": {
      "text/plain": [
       "<AxesSubplot:xlabel='RND', ylabel='PROFIT'>"
      ]
     },
     "execution_count": 41,
     "metadata": {},
     "output_type": "execute_result"
    },
    {
     "data": {
      "image/png": "[encoded data removed]",
      "text/plain": [
       "<Figure size 432x288 with 1 Axes>"
      ]
     },
     "metadata": {
      "needs_background": "light"
     },
     "output_type": "display_data"
    }
   ],
   "source": [
    "import seaborn as sb\n",
    "sb.regplot(xtrain,ytrain)"
   ]
  },
  {
   "cell_type": "code",
   "execution_count": 42,
   "id": "d1b744a7",
   "metadata": {},
   "outputs": [
    {
     "data": {
      "text/plain": [
       "Text(0.5, 1.0, 'RND Vs Profit regression')"
      ]
     },
     "execution_count": 42,
     "metadata": {},
     "output_type": "execute_result"
    },
    {
     "data": {
      "image/png": "[encoded data removed]",
      "text/plain": [
       "<Figure size 432x288 with 1 Axes>"
      ]
     },
     "metadata": {
      "needs_background": "light"
     },
     "output_type": "display_data"
    }
   ],
   "source": [
    "import matplotlib.pyplot as plt\n",
    "plt.scatter(xtrain.RND,ytrain.PROFIT,c=\"red\")\n",
    "plt.plot(xtrain.RND,b0+b1*xtrain.RND,c=\"green\")\n",
    "plt.xlabel(\"Amount spent in RND\")\n",
    "plt.ylabel(\"Amount achieved in Profit\")\n",
    "plt.title(\"RND Vs Profit regression\")"
   ]
  },
  {
   "cell_type": "markdown",
   "id": "f6c4c93d",
   "metadata": {},
   "source": [
    "# Get predictions for new input"
   ]
  },
  {
   "cell_type": "code",
   "execution_count": 43,
   "id": "986ddc07",
   "metadata": {},
   "outputs": [
    {
     "name": "stdout",
     "output_type": "stream",
     "text": [
      "Enter any value of RND: 50000\n",
      "Predicted profit is:  91917.68 in INR\n"
     ]
    }
   ],
   "source": [
    "w = int(input(\"Enter any value of RND: \"))\n",
    "print(\"Predicted profit is: \", round(b0+b1*w,2),\"in INR\")"
   ]
  },
  {
   "cell_type": "code",
   "execution_count": null,
   "id": "616413ea",
   "metadata": {},
   "outputs": [],
   "source": []
  }
 ],
 "metadata": {
  "kernelspec": {
   "display_name": "Python 3",
   "language": "python",
   "name": "python3"
  },
  "language_info": {
   "codemirror_mode": {
    "name": "ipython",
    "version": 3
   },
   "file_extension": ".py",
   "mimetype": "text/x-python",
   "name": "python",
   "nbconvert_exporter": "python",
   "pygments_lexer": "ipython3",
   "version": "3.8.8"
  }
 },
 "nbformat": 4,
 "nbformat_minor": 5
}
